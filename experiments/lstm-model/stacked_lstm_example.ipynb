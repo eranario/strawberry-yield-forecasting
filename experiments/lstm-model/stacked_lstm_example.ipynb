{
 "cells": [
  {
   "cell_type": "code",
   "execution_count": 19,
   "metadata": {},
   "outputs": [],
   "source": [
    "import torch\n",
    "import torch.nn.functional as F\n",
    "import torch.optim as optim\n",
    "import matplotlib.pyplot as plt\n",
    "\n",
    "from torch import nn\n",
    "from tqdm import tqdm"
   ]
  },
  {
   "cell_type": "code",
   "execution_count": 9,
   "metadata": {},
   "outputs": [
    {
     "name": "stdout",
     "output_type": "stream",
     "text": [
      "{'The': 0, 'dog': 1, 'ate': 2, 'the': 3, 'apple': 4, 'Everybody': 5, 'read': 6, 'that': 7, 'book': 8}\n"
     ]
    }
   ],
   "source": [
    "def prepare_sequence(seq, to_ix):\n",
    "    idxs = [to_ix[w] for w in seq]\n",
    "    return torch.tensor(idxs, dtype=torch.long)\n",
    "\n",
    "training_data = [\n",
    "    # Targs are: DET - determiner; NN - noun; V - verb\n",
    "    # For example, the word \"The\" is a determiner\n",
    "    (\"The dog ate the apple\".split(), [\"DET\", \"NN\", \"V\", \"DET\", \"NN\"]),\n",
    "    (\"Everybody read that book\".split(), [\"NN\", \"V\", \"DET\", \"NN\"])\n",
    "]\n",
    "word_to_ix = {}\n",
    "\n",
    "# For each words-list (sentence) and tags-list in each tuple of training_data\n",
    "for sent, tags in training_data:\n",
    "    for word in sent:\n",
    "        \n",
    "        if word not in word_to_ix: # this check if the word has not beed assigned an index yet\n",
    "            word_to_ix[word] = len(word_to_ix) # this will assign each word with a unique index\n",
    "            \n",
    "print(word_to_ix)"
   ]
  },
  {
   "cell_type": "code",
   "execution_count": 10,
   "metadata": {},
   "outputs": [],
   "source": [
    "tag_to_ix = {\"DET\": 0, \"NN\": 1, \"V\": 2} # assign each tag to a unique index as well\n",
    "\n",
    "# these will usually be more like 32 or 64 dimensional\n",
    "# we will keep them small, so we can see how the weights change as we train\n",
    "INPUT_DIM = 6"
   ]
  },
  {
   "cell_type": "code",
   "execution_count": 11,
   "metadata": {},
   "outputs": [],
   "source": [
    "class LSTMModel(nn.Module):\n",
    "    \n",
    "    def __init__(self, input_dim, vocab_size, tagset_size):\n",
    "        \n",
    "        super(LSTMModel, self).__init__()\n",
    "        \n",
    "        # word embedding\n",
    "        self.word_embeddings = nn.Embedding(vocab_size, input_dim)\n",
    "        \n",
    "        # lstm layers\n",
    "        self.lstm = nn.Sequential(\n",
    "            nn.LSTM(input_dim, 80, batch_first=True),\n",
    "            nn.LSTM(80, 40, batch_first=True),\n",
    "            nn.LSTM(40, 40, batch_first=True),\n",
    "            nn.LSTM(40, 20, batch_first=True)\n",
    "        )\n",
    "        \n",
    "        # fully connected layers\n",
    "        self.fc_layers = nn.Sequential(\n",
    "            nn.Linear(20, 20),\n",
    "            nn.ReLU(),\n",
    "            nn.Linear(20, tagset_size)\n",
    "        )\n",
    "\n",
    "    def forward(self, x):\n",
    "        \n",
    "        # convert sentence into embeddings\n",
    "        x = self.word_embeddings(x)\n",
    "        x = x.view(len(x), 1, -1)\n",
    "        \n",
    "        # pass through lstm layers\n",
    "        for lstm_layer in self.lstm:\n",
    "            x, _ = lstm_layer(x)\n",
    "        \n",
    "        # fc layers\n",
    "        x = self.fc_layers(x.view(len(x), -1)) # sequence-to-sequence task\n",
    "        \n",
    "        # apply softmax\n",
    "        x = F.log_softmax(x, dim=1)\n",
    "        \n",
    "        return x"
   ]
  },
  {
   "cell_type": "code",
   "execution_count": 12,
   "metadata": {},
   "outputs": [],
   "source": [
    "model = LSTMModel(INPUT_DIM, len(word_to_ix), len(tag_to_ix))\n",
    "loss_function = nn.NLLLoss()\n",
    "optimizer = optim.SGD(model.parameters(), lr=0.1)"
   ]
  },
  {
   "cell_type": "code",
   "execution_count": 21,
   "metadata": {},
   "outputs": [],
   "source": [
    "loss_step = []"
   ]
  },
  {
   "cell_type": "code",
   "execution_count": 40,
   "metadata": {},
   "outputs": [
    {
     "name": "stderr",
     "output_type": "stream",
     "text": [
      "100%|██████████| 500/500 [00:09<00:00, 51.94it/s]\n"
     ]
    }
   ],
   "source": [
    "for epoch in tqdm(range(500)): # again, normally you would NOT do 300 epochs, it is toy data\n",
    "    for sentence, tags in training_data:\n",
    "        # step 1: remember that pytorch accumulates gradients\n",
    "        # we need to clear them out before each instance\n",
    "        model.zero_grad()\n",
    "        \n",
    "        # step 2: get inputs ready for the network\n",
    "        # turn them into tensors of word indices\n",
    "        sentence_in = prepare_sequence(sentence, word_to_ix)\n",
    "        targets = prepare_sequence(tags, tag_to_ix)\n",
    "        \n",
    "        # step 3: run forward pass\n",
    "        tag_scores = model(sentence_in)\n",
    "        \n",
    "        # step 4: compute the loss, gradients and update parameters\n",
    "        loss = loss_function(tag_scores, targets)\n",
    "        loss.backward()\n",
    "        optimizer.step()\n",
    "        \n",
    "        loss_step.append(loss)"
   ]
  },
  {
   "cell_type": "code",
   "execution_count": 48,
   "metadata": {},
   "outputs": [
    {
     "data": {
      "image/png": "[encoded data removed]",
      "text/plain": [
       "<Figure size 1000x500 with 1 Axes>"
      ]
     },
     "metadata": {},
     "output_type": "display_data"
    }
   ],
   "source": [
    "for i in range(len(loss_step)):\n",
    "    if type(loss_step[i]) is torch.Tensor:\n",
    "        loss_step[i] = loss_step[i].detach().item()\n",
    "\n",
    "plt.figure(figsize=(10, 5))\n",
    "plt.plot(loss_step, marker='o', linestyle='-', color='b', label='Loss per Step')\n",
    "plt.xlabel('Step Index')\n",
    "plt.ylabel('Loss Value')\n",
    "plt.title('Loss per Step')\n",
    "plt.legend()\n",
    "plt.grid(True)\n",
    "plt.show()"
   ]
  },
  {
   "cell_type": "code",
   "execution_count": 17,
   "metadata": {},
   "outputs": [
    {
     "name": "stdout",
     "output_type": "stream",
     "text": [
      "Loss: 1.053666353225708\n"
     ]
    }
   ],
   "source": [
    "print(f\"Loss: {loss}\")"
   ]
  },
  {
   "cell_type": "code",
   "execution_count": 18,
   "metadata": {},
   "outputs": [
    {
     "name": "stdout",
     "output_type": "stream",
     "text": [
      "tensor([[-1.1288, -0.7958, -1.4901],\n",
      "        [-1.1290, -0.7957, -1.4900],\n",
      "        [-1.1290, -0.7957, -1.4899],\n",
      "        [-1.1288, -0.7958, -1.4900],\n",
      "        [-1.1290, -0.7957, -1.4900]])\n"
     ]
    }
   ],
   "source": [
    "# see scores after training\n",
    "with torch.no_grad():\n",
    "    inputs = prepare_sequence(training_data[0][0], word_to_ix)\n",
    "    tag_scores = model(inputs)\n",
    "    \n",
    "    # the sentence is \"the dog ate the apple\".  i,j corresponds to score for tag j\n",
    "    # for word i. The predicted tag is the maximum scoring tag.\n",
    "    # here, we can see the predicted sequence below is 0 1 2 0 1\n",
    "    # since 0 is index of the maximum value of row 1,\n",
    "    # 1 is the index of maximum value of row 2, etc.\n",
    "    # which is DET NOUN VERB DET NOUN, the correct sequence!\n",
    "    print(tag_scores)"
   ]
  }
 ],
 "metadata": {
  "kernelspec": {
   "display_name": "lstm",
   "language": "python",
   "name": "python3"
  },
  "language_info": {
   "codemirror_mode": {
    "name": "ipython",
    "version": 3
   },
   "file_extension": ".py",
   "mimetype": "text/x-python",
   "name": "python",
   "nbconvert_exporter": "python",
   "pygments_lexer": "ipython3",
   "version": "3.10.15"
  }
 },
 "nbformat": 4,
 "nbformat_minor": 2
}
