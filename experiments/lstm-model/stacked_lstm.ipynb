{
 "cells": [
  {
   "cell_type": "code",
   "execution_count": 5,
   "metadata": {},
   "outputs": [],
   "source": [
    "from torch import nn"
   ]
  },
  {
   "cell_type": "code",
   "execution_count": null,
   "metadata": {},
   "outputs": [],
   "source": [
    "class LSTMModel(nn.Module):\n",
    "    \n",
    "    def __init__(self, input_dim):\n",
    "        \n",
    "        super(LSTMModel, self).__init__()\n",
    "        \n",
    "        # lstm layers\n",
    "        self.lstm = nn.Sequential(\n",
    "            nn.LSTM(input_dim, 80, batch_first=True),\n",
    "            nn.LSTM(80, 40, batch_first=True),\n",
    "            nn.LSTM(40, 40, batch_first=True),\n",
    "            nn.LSTM(40, 20, batch_first=True)\n",
    "        )\n",
    "        \n",
    "        # fully connected layers\n",
    "        self.fc_layers = nn.Sequential(\n",
    "            nn.Linear(20, 20),\n",
    "            nn.ReLU(),\n",
    "            nn.Linear(20, 1)\n",
    "        )\n",
    "\n",
    "    def forward(self, x):\n",
    "        \n",
    "        # pass through lstm layers\n",
    "        for lstm_layer in self.lstm:\n",
    "            x, _ = lstm_layer(x)\n",
    "            \n",
    "        # get last hidden state (sequence-to-one)\n",
    "        x = x[:, -1, :]\n",
    "        \n",
    "        # fc layers\n",
    "        x = self.fc_layers(x)\n",
    "        \n",
    "        return x"
   ]
  }
 ],
 "metadata": {
  "kernelspec": {
   "display_name": "lstm",
   "language": "python",
   "name": "python3"
  },
  "language_info": {
   "codemirror_mode": {
    "name": "ipython",
    "version": 3
   },
   "file_extension": ".py",
   "mimetype": "text/x-python",
   "name": "python",
   "nbconvert_exporter": "python",
   "pygments_lexer": "ipython3",
   "version": "3.10.15"
  }
 },
 "nbformat": 4,
 "nbformat_minor": 2
}
