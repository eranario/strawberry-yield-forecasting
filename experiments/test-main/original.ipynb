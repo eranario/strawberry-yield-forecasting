{
 "cells": [
  {
   "cell_type": "markdown",
   "metadata": {},
   "source": [
    "# Dataset"
   ]
  },
  {
   "cell_type": "code",
   "execution_count": 1,
   "metadata": {},
   "outputs": [],
   "source": [
    "import sys\n",
    "\n",
    "# add the parent directory to the path so we can import the module\n",
    "sys.path.append(\"/data2/eranario/scratch/strawberry-yield-forecasting\")"
   ]
  },
  {
   "cell_type": "code",
   "execution_count": 2,
   "metadata": {},
   "outputs": [],
   "source": [
    "import torch\n",
    "from src.dataset import StrawberryDataset"
   ]
  },
  {
   "cell_type": "code",
   "execution_count": 3,
   "metadata": {},
   "outputs": [],
   "source": [
    "# device is cuda else cpu\n",
    "device = \"cuda\" if torch.cuda.is_available() else \"cpu\""
   ]
  },
  {
   "cell_type": "code",
   "execution_count": 19,
   "metadata": {},
   "outputs": [],
   "source": [
    "path_to_counts = \"/data2/eranario/data/Strawberry-Yield-Forecasting/\"\n",
    "path_to_weights = \"/data2/eranario/data/Strawberry-Yield-Forecasting/weights/weights.csv\"\n",
    "n_seq = 5\n",
    "seq_l = 3\n",
    "n_folds = 2\n",
    "k_fold = 2\n",
    "dataset = StrawberryDataset(path_to_counts, path_to_weights, k_fold=k_fold,\n",
    "                            n_seq=n_seq, seq_l=seq_l, n_folds=n_folds)"
   ]
  },
  {
   "cell_type": "code",
   "execution_count": 20,
   "metadata": {},
   "outputs": [
    {
     "name": "stdout",
     "output_type": "stream",
     "text": [
      "\n",
      "Parsed Dates:\n",
      "Months: ['06', '06', '07', '07', '07', '07', '07', '07', '08', '08', '08', '08', '08', '09', '09', '09']\n",
      "Days: ['17', '28', '05', '08', '15', '19', '26', '29', '02', '05', '09', '12', '29', '01', '20', '22']\n",
      "Years: ['2022', '2022', '2022', '2022', '2022', '2022', '2022', '2022', '2022', '2022', '2022', '2022', '2022', '2022', '2022', '2022']\n",
      "\n",
      "Organized Data Shapes:\n",
      "X_data shape: (495, 3, 7)\n",
      "y_data shape: (495, 1)\n",
      "\n",
      "Sample X_data: [[0.         0.25957873 0.08863333 0.         0.         0.56364411\n",
      "  1.        ]\n",
      " [0.         0.         0.         0.         0.         0.\n",
      "  0.47619048]\n",
      " [0.         0.         0.         0.3789208  0.         0.34544651\n",
      "  0.14285714]]\n",
      "Sample y_data: [0.33320494]\n",
      "\n",
      "Dataset length (number of samples): 495\n",
      "\n",
      "Sample from __getitem__:\n",
      "X_sample: tensor([[0.0000, 0.2596, 0.0886, 0.0000, 0.0000, 0.5636, 1.0000],\n",
      "        [0.0000, 0.0000, 0.0000, 0.0000, 0.0000, 0.0000, 0.4762],\n",
      "        [0.0000, 0.0000, 0.0000, 0.3789, 0.0000, 0.3454, 0.1429]])\n",
      "y_sample: tensor([0.3332])\n"
     ]
    }
   ],
   "source": [
    "# Check date parsing\n",
    "months, days, years = dataset.months, dataset.days, dataset.years\n",
    "print(\"\\nParsed Dates:\")\n",
    "print(\"Months:\", months)\n",
    "print(\"Days:\", days)\n",
    "print(\"Years:\", years)\n",
    "\n",
    "\n",
    "X_data, y_data = dataset.fnX, dataset.fny\n",
    "print(\"\\nOrganized Data Shapes:\")\n",
    "print(\"X_data shape:\", X_data.shape)  # Expected: (num_samples, num_features)\n",
    "print(\"y_data shape:\", y_data.shape)  # Expected: (num_samples, num_labels)\n",
    "\n",
    "# Display sample data from X and y\n",
    "print(\"\\nSample X_data:\", X_data[0][:10])  # Display first 10 features of first sample\n",
    "print(\"Sample y_data:\", y_data[0])         # Display first sample of y_data\n",
    "\n",
    "print(\"\\nDataset length (number of samples):\", len(dataset))\n",
    "\n",
    "X_sample, y_sample = dataset[0]\n",
    "print(\"\\nSample from __getitem__:\")\n",
    "print(\"X_sample:\", X_sample[:10])  # Display first 10 features of X_sample\n",
    "print(\"y_sample:\", y_sample)"
   ]
  },
  {
   "cell_type": "markdown",
   "metadata": {},
   "source": [
    "# Dataloader"
   ]
  },
  {
   "cell_type": "code",
   "execution_count": 21,
   "metadata": {},
   "outputs": [],
   "source": [
    "import torch\n",
    "from torch.utils.data import DataLoader"
   ]
  },
  {
   "cell_type": "code",
   "execution_count": 22,
   "metadata": {},
   "outputs": [],
   "source": [
    "train_size = int(0.75 * len(dataset))\n",
    "val_size = len(dataset) - train_size\n",
    "train_dataset, val_dataset = torch.utils.data.random_split(dataset, [train_size, val_size])\n",
    "\n",
    "train_loader = DataLoader(train_dataset, batch_size=1, shuffle=True)\n",
    "val_loader = DataLoader(val_dataset, batch_size=1, shuffle=False)"
   ]
  },
  {
   "cell_type": "code",
   "execution_count": 23,
   "metadata": {},
   "outputs": [
    {
     "data": {
      "text/plain": [
       "(371, 124)"
      ]
     },
     "execution_count": 23,
     "metadata": {},
     "output_type": "execute_result"
    }
   ],
   "source": [
    "len(train_loader), len(val_loader)"
   ]
  },
  {
   "cell_type": "code",
   "execution_count": 24,
   "metadata": {},
   "outputs": [
    {
     "name": "stdout",
     "output_type": "stream",
     "text": [
      "\n",
      "Batch 0\n",
      "X_batch shape: torch.Size([1, 3, 7])\n",
      "y_batch shape: torch.Size([1, 1])\n",
      "X_batch: tensor([[[0.0000, 0.1742, 0.3561, 0.0000, 0.0000, 0.7454, 1.0000],\n",
      "         [0.0000, 0.0000, 0.2494, 0.1078, 0.0000, 0.3828, 0.5882],\n",
      "         [0.0000, 0.0000, 0.1389, 0.3002, 0.0000, 0.3292, 0.4118]]])\n",
      "y_batch: tensor([[0.6282]])\n"
     ]
    }
   ],
   "source": [
    "# try to get a batch of data\n",
    "for i, (X_batch, y_batch) in enumerate(train_loader):\n",
    "    print(\"\\nBatch\", i)\n",
    "    print(\"X_batch shape:\", X_batch.shape)\n",
    "    print(\"y_batch shape:\", y_batch.shape)\n",
    "    print(\"X_batch:\", X_batch)\n",
    "    print(\"y_batch:\", y_batch)\n",
    "    break"
   ]
  },
  {
   "cell_type": "markdown",
   "metadata": {},
   "source": [
    "# Training"
   ]
  },
  {
   "cell_type": "code",
   "execution_count": 25,
   "metadata": {},
   "outputs": [],
   "source": [
    "from torch.optim import Adam\n",
    "from torch.nn import MSELoss\n",
    "from src.model import LSTMModel"
   ]
  },
  {
   "cell_type": "code",
   "execution_count": 26,
   "metadata": {},
   "outputs": [],
   "source": [
    "def train_lstm_model(model, train_loader, val_loader, epochs, lr):\n",
    "    device = torch.device(\"cuda\" if torch.cuda.is_available() else \"cpu\")\n",
    "    model = model.to(device)\n",
    "    criterion = MSELoss()\n",
    "    optimizer = Adam(model.parameters(), lr=lr)\n",
    "    \n",
    "    best_val_loss = float(\"inf\")\n",
    "    best_model = None\n",
    "    \n",
    "    for epoch in range(epochs):\n",
    "        # Training phase\n",
    "        model.train()\n",
    "        train_loss = 0.0\n",
    "        for X_batch, y_batch in train_loader:\n",
    "            X_batch, y_batch = X_batch.to(device), y_batch.to(device)\n",
    "            \n",
    "            optimizer.zero_grad()\n",
    "            outputs = model(X_batch)\n",
    "            loss = criterion(outputs, y_batch)\n",
    "            loss.backward()\n",
    "            optimizer.step()\n",
    "            \n",
    "            train_loss += loss.item()\n",
    "        \n",
    "        train_loss /= len(train_loader)\n",
    "        \n",
    "        # Validation phase\n",
    "        model.eval()\n",
    "        val_loss = 0.0\n",
    "        with torch.no_grad():\n",
    "            for X_batch, y_batch in val_loader:\n",
    "                X_batch, y_batch = X_batch.to(device), y_batch.to(device)\n",
    "                outputs = model(X_batch)\n",
    "                loss = criterion(outputs, y_batch)\n",
    "                val_loss += loss.item()\n",
    "        \n",
    "        val_loss /= len(val_loader)\n",
    "        \n",
    "        print(f\"Epoch {epoch+1}/{epochs}, Train Loss: {train_loss:.4f}, Val Loss: {val_loss:.4f}\")\n",
    "        \n",
    "        # Save best model\n",
    "        if val_loss < best_val_loss:\n",
    "            best_val_loss = val_loss\n",
    "            best_model = model.state_dict()\n",
    "    \n",
    "    # Load best model before returning\n",
    "    model.load_state_dict(best_model)\n",
    "    return model"
   ]
  },
  {
   "cell_type": "code",
   "execution_count": 27,
   "metadata": {},
   "outputs": [],
   "source": [
    "input_dim = dataset.samples_dim[2]\n",
    "epochs = 100\n",
    "learning_rate = 0.001\n",
    "\n",
    "model = LSTMModel(input_dim=input_dim)"
   ]
  },
  {
   "cell_type": "code",
   "execution_count": 28,
   "metadata": {},
   "outputs": [
    {
     "name": "stdout",
     "output_type": "stream",
     "text": [
      "Epoch 1/100, Train Loss: 0.0706, Val Loss: 0.0257\n",
      "Epoch 2/100, Train Loss: 0.0241, Val Loss: 0.0298\n",
      "Epoch 3/100, Train Loss: 0.0208, Val Loss: 0.0206\n",
      "Epoch 4/100, Train Loss: 0.0194, Val Loss: 0.0168\n",
      "Epoch 5/100, Train Loss: 0.0172, Val Loss: 0.0293\n",
      "Epoch 6/100, Train Loss: 0.0163, Val Loss: 0.0130\n",
      "Epoch 7/100, Train Loss: 0.0155, Val Loss: 0.0128\n",
      "Epoch 8/100, Train Loss: 0.0145, Val Loss: 0.0134\n",
      "Epoch 9/100, Train Loss: 0.0140, Val Loss: 0.0131\n",
      "Epoch 10/100, Train Loss: 0.0134, Val Loss: 0.0166\n",
      "Epoch 11/100, Train Loss: 0.0132, Val Loss: 0.0220\n",
      "Epoch 12/100, Train Loss: 0.0128, Val Loss: 0.0123\n",
      "Epoch 13/100, Train Loss: 0.0128, Val Loss: 0.0127\n",
      "Epoch 14/100, Train Loss: 0.0136, Val Loss: 0.0112\n",
      "Epoch 15/100, Train Loss: 0.0137, Val Loss: 0.0111\n",
      "Epoch 16/100, Train Loss: 0.0136, Val Loss: 0.0108\n",
      "Epoch 17/100, Train Loss: 0.0133, Val Loss: 0.0114\n",
      "Epoch 18/100, Train Loss: 0.0131, Val Loss: 0.0151\n",
      "Epoch 19/100, Train Loss: 0.0132, Val Loss: 0.0112\n",
      "Epoch 20/100, Train Loss: 0.0123, Val Loss: 0.0161\n",
      "Epoch 21/100, Train Loss: 0.0129, Val Loss: 0.0113\n",
      "Epoch 22/100, Train Loss: 0.0125, Val Loss: 0.0119\n",
      "Epoch 23/100, Train Loss: 0.0122, Val Loss: 0.0123\n",
      "Epoch 24/100, Train Loss: 0.0125, Val Loss: 0.0108\n",
      "Epoch 25/100, Train Loss: 0.0121, Val Loss: 0.0124\n",
      "Epoch 26/100, Train Loss: 0.0126, Val Loss: 0.0132\n",
      "Epoch 27/100, Train Loss: 0.0128, Val Loss: 0.0139\n",
      "Epoch 28/100, Train Loss: 0.0121, Val Loss: 0.0140\n",
      "Epoch 29/100, Train Loss: 0.0126, Val Loss: 0.0129\n",
      "Epoch 30/100, Train Loss: 0.0122, Val Loss: 0.0119\n",
      "Epoch 31/100, Train Loss: 0.0128, Val Loss: 0.0112\n",
      "Epoch 32/100, Train Loss: 0.0126, Val Loss: 0.0118\n",
      "Epoch 33/100, Train Loss: 0.0124, Val Loss: 0.0117\n",
      "Epoch 34/100, Train Loss: 0.0123, Val Loss: 0.0108\n",
      "Epoch 35/100, Train Loss: 0.0120, Val Loss: 0.0117\n",
      "Epoch 36/100, Train Loss: 0.0126, Val Loss: 0.0114\n",
      "Epoch 37/100, Train Loss: 0.0116, Val Loss: 0.0108\n",
      "Epoch 38/100, Train Loss: 0.0119, Val Loss: 0.0181\n",
      "Epoch 39/100, Train Loss: 0.0117, Val Loss: 0.0114\n",
      "Epoch 40/100, Train Loss: 0.0120, Val Loss: 0.0106\n",
      "Epoch 41/100, Train Loss: 0.0117, Val Loss: 0.0132\n",
      "Epoch 42/100, Train Loss: 0.0115, Val Loss: 0.0117\n",
      "Epoch 43/100, Train Loss: 0.0115, Val Loss: 0.0109\n",
      "Epoch 44/100, Train Loss: 0.0121, Val Loss: 0.0152\n",
      "Epoch 45/100, Train Loss: 0.0115, Val Loss: 0.0105\n",
      "Epoch 46/100, Train Loss: 0.0116, Val Loss: 0.0157\n",
      "Epoch 47/100, Train Loss: 0.0114, Val Loss: 0.0125\n",
      "Epoch 48/100, Train Loss: 0.0117, Val Loss: 0.0117\n",
      "Epoch 49/100, Train Loss: 0.0113, Val Loss: 0.0104\n",
      "Epoch 50/100, Train Loss: 0.0119, Val Loss: 0.0101\n",
      "Epoch 51/100, Train Loss: 0.0118, Val Loss: 0.0114\n",
      "Epoch 52/100, Train Loss: 0.0117, Val Loss: 0.0108\n",
      "Epoch 53/100, Train Loss: 0.0110, Val Loss: 0.0123\n",
      "Epoch 54/100, Train Loss: 0.0110, Val Loss: 0.0137\n",
      "Epoch 55/100, Train Loss: 0.0110, Val Loss: 0.0113\n",
      "Epoch 56/100, Train Loss: 0.0114, Val Loss: 0.0107\n",
      "Epoch 57/100, Train Loss: 0.0109, Val Loss: 0.0102\n",
      "Epoch 58/100, Train Loss: 0.0113, Val Loss: 0.0113\n",
      "Epoch 59/100, Train Loss: 0.0111, Val Loss: 0.0121\n",
      "Epoch 60/100, Train Loss: 0.0108, Val Loss: 0.0113\n",
      "Epoch 61/100, Train Loss: 0.0118, Val Loss: 0.0109\n",
      "Epoch 62/100, Train Loss: 0.0113, Val Loss: 0.0127\n",
      "Epoch 63/100, Train Loss: 0.0110, Val Loss: 0.0100\n",
      "Epoch 64/100, Train Loss: 0.0112, Val Loss: 0.0136\n",
      "Epoch 65/100, Train Loss: 0.0109, Val Loss: 0.0132\n",
      "Epoch 66/100, Train Loss: 0.0109, Val Loss: 0.0146\n",
      "Epoch 67/100, Train Loss: 0.0108, Val Loss: 0.0108\n",
      "Epoch 68/100, Train Loss: 0.0103, Val Loss: 0.0111\n",
      "Epoch 69/100, Train Loss: 0.0107, Val Loss: 0.0126\n",
      "Epoch 70/100, Train Loss: 0.0111, Val Loss: 0.0104\n",
      "Epoch 71/100, Train Loss: 0.0107, Val Loss: 0.0115\n",
      "Epoch 72/100, Train Loss: 0.0105, Val Loss: 0.0120\n",
      "Epoch 73/100, Train Loss: 0.0102, Val Loss: 0.0104\n",
      "Epoch 74/100, Train Loss: 0.0104, Val Loss: 0.0109\n",
      "Epoch 75/100, Train Loss: 0.0110, Val Loss: 0.0115\n",
      "Epoch 76/100, Train Loss: 0.0103, Val Loss: 0.0117\n",
      "Epoch 77/100, Train Loss: 0.0102, Val Loss: 0.0128\n",
      "Epoch 78/100, Train Loss: 0.0101, Val Loss: 0.0131\n",
      "Epoch 79/100, Train Loss: 0.0103, Val Loss: 0.0125\n",
      "Epoch 80/100, Train Loss: 0.0103, Val Loss: 0.0105\n",
      "Epoch 81/100, Train Loss: 0.0103, Val Loss: 0.0108\n",
      "Epoch 82/100, Train Loss: 0.0104, Val Loss: 0.0111\n",
      "Epoch 83/100, Train Loss: 0.0098, Val Loss: 0.0113\n",
      "Epoch 84/100, Train Loss: 0.0098, Val Loss: 0.0127\n",
      "Epoch 85/100, Train Loss: 0.0106, Val Loss: 0.0103\n",
      "Epoch 86/100, Train Loss: 0.0100, Val Loss: 0.0109\n",
      "Epoch 87/100, Train Loss: 0.0101, Val Loss: 0.0117\n",
      "Epoch 88/100, Train Loss: 0.0104, Val Loss: 0.0109\n",
      "Epoch 89/100, Train Loss: 0.0094, Val Loss: 0.0120\n",
      "Epoch 90/100, Train Loss: 0.0098, Val Loss: 0.0116\n",
      "Epoch 91/100, Train Loss: 0.0097, Val Loss: 0.0113\n",
      "Epoch 92/100, Train Loss: 0.0098, Val Loss: 0.0130\n",
      "Epoch 93/100, Train Loss: 0.0093, Val Loss: 0.0146\n",
      "Epoch 94/100, Train Loss: 0.0094, Val Loss: 0.0123\n",
      "Epoch 95/100, Train Loss: 0.0092, Val Loss: 0.0112\n",
      "Epoch 96/100, Train Loss: 0.0095, Val Loss: 0.0115\n",
      "Epoch 97/100, Train Loss: 0.0100, Val Loss: 0.0132\n",
      "Epoch 98/100, Train Loss: 0.0093, Val Loss: 0.0120\n",
      "Epoch 99/100, Train Loss: 0.0091, Val Loss: 0.0117\n",
      "Epoch 100/100, Train Loss: 0.0095, Val Loss: 0.0123\n"
     ]
    }
   ],
   "source": [
    "trained_model = train_lstm_model(model, train_loader, val_loader, epochs, learning_rate)"
   ]
  },
  {
   "cell_type": "markdown",
   "metadata": {},
   "source": [
    "# Test"
   ]
  },
  {
   "cell_type": "code",
   "execution_count": 14,
   "metadata": {},
   "outputs": [],
   "source": [
    "import numpy as np"
   ]
  },
  {
   "cell_type": "code",
   "execution_count": 15,
   "metadata": {},
   "outputs": [],
   "source": [
    "def evaluate_test_set(model, test_loader, device):\n",
    "    model.eval()  # Set model to evaluation mode\n",
    "    predictions = []\n",
    "    true_values = []\n",
    "    \n",
    "    with torch.no_grad():  # Disable gradient computation for inference\n",
    "        for X_batch, y_batch in test_loader:\n",
    "            X_batch, y_batch = X_batch.to(device), y_batch.to(device)\n",
    "            outputs = model(X_batch)\n",
    "            predictions.append(outputs.cpu().numpy())  # Store predictions\n",
    "            true_values.append(y_batch.cpu().numpy())  # Store true labels\n",
    "    \n",
    "    # Concatenate the results into single arrays\n",
    "    predictions = np.concatenate(predictions)\n",
    "    true_values = np.concatenate(true_values)\n",
    "    \n",
    "    return predictions, true_values\n"
   ]
  },
  {
   "cell_type": "code",
   "execution_count": 16,
   "metadata": {},
   "outputs": [
    {
     "name": "stdout",
     "output_type": "stream",
     "text": [
      "\n",
      "Sample from test_loader:\n",
      "X_batch shape: torch.Size([1, 3, 7])\n",
      "y_batch shape: torch.Size([1, 1])\n",
      "X_batch: tensor([[[0.0000, 0.0000, 0.2408, 0.0580, 0.0000, 0.3123, 1.0000],\n",
      "         [0.0000, 0.0000, 0.0774, 0.1976, 0.0000, 0.4061, 0.6364],\n",
      "         [0.0000, 0.0000, 0.0260, 0.2823, 0.0000, 0.3159, 0.3636]]])\n"
     ]
    }
   ],
   "source": [
    "dataset.mode = 'test'\n",
    "\n",
    "test_loader = DataLoader(dataset, batch_size=1, shuffle=False)\n",
    "\n",
    "# check first batch\n",
    "X_batch, y_batch = next(iter(test_loader))\n",
    "print(\"\\nSample from test_loader:\")\n",
    "print(\"X_batch shape:\", X_batch.shape)\n",
    "print(\"y_batch shape:\", y_batch.shape)\n",
    "print(\"X_batch:\", X_batch)"
   ]
  },
  {
   "cell_type": "code",
   "execution_count": 17,
   "metadata": {},
   "outputs": [],
   "source": [
    "predictions, true_values = evaluate_test_set(trained_model, test_loader, device)"
   ]
  },
  {
   "cell_type": "code",
   "execution_count": 18,
   "metadata": {},
   "outputs": [
    {
     "name": "stdout",
     "output_type": "stream",
     "text": [
      "Test RMSE: 0.1745\n",
      "Test R²: 0.3493\n"
     ]
    }
   ],
   "source": [
    "from sklearn.metrics import mean_squared_error, r2_score\n",
    "rmse = np.sqrt(mean_squared_error(true_values, predictions))\n",
    "r2 = r2_score(true_values, predictions)\n",
    "\n",
    "print(f\"Test RMSE: {rmse:.4f}\")\n",
    "print(f\"Test R²: {r2:.4f}\")"
   ]
  }
 ],
 "metadata": {
  "kernelspec": {
   "display_name": "lstm",
   "language": "python",
   "name": "python3"
  },
  "language_info": {
   "codemirror_mode": {
    "name": "ipython",
    "version": 3
   },
   "file_extension": ".py",
   "mimetype": "text/x-python",
   "name": "python",
   "nbconvert_exporter": "python",
   "pygments_lexer": "ipython3",
   "version": "3.10.15"
  }
 },
 "nbformat": 4,
 "nbformat_minor": 2
}
