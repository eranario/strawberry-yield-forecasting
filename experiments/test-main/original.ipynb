{
 "cells": [
  {
   "cell_type": "markdown",
   "metadata": {},
   "source": [
    "# Try Dataset"
   ]
  },
  {
   "cell_type": "code",
   "execution_count": 1,
   "metadata": {},
   "outputs": [],
   "source": [
    "import sys\n",
    "\n",
    "# add the parent directory to the path so we can import the module\n",
    "sys.path.append(\"/data2/eranario/scratch/strawberry-yield-forecasting\")"
   ]
  },
  {
   "cell_type": "code",
   "execution_count": 2,
   "metadata": {},
   "outputs": [],
   "source": [
    "from src.dataset import StrawberryDataset"
   ]
  },
  {
   "cell_type": "code",
   "execution_count": 3,
   "metadata": {},
   "outputs": [],
   "source": [
    "path_to_counts = \"/data2/eranario/data/Strawberry-Yield-Forecasting/\"\n",
    "dataset = StrawberryDataset(path_to_counts)"
   ]
  },
  {
   "cell_type": "code",
   "execution_count": 4,
   "metadata": {},
   "outputs": [
    {
     "name": "stdout",
     "output_type": "stream",
     "text": [
      "\n",
      "Parsed Dates:\n",
      "Months: ['06', '06', '07', '07', '07', '07', '07', '07', '08', '08', '08', '08', '08', '09', '09', '09']\n",
      "Days: ['17', '28', '05', '08', '15', '19', '26', '29', '02', '05', '09', '12', '29', '01', '20', '22']\n",
      "Years: ['2022', '2022', '2022', '2022', '2022', '2022', '2022', '2022', '2022', '2022', '2022', '2022', '2022', '2022', '2022', '2022']\n",
      "\n",
      "Organized Data Shapes:\n",
      "X_data shape: (99, 105)\n",
      "y_data shape: (99, 15)\n",
      "\n",
      "Sample X_data: [ 10.39396218  13.81405518  17.89210288  35.35248382 199.13060241\n",
      " 123.28789077  11.           0.           0.           0.        ]\n",
      "Sample y_data: [ 7.         90.99643387 57.15756345 41.59004329 34.73244475 78.7308509\n",
      " 49.43392304 89.9460373  42.61111111 40.66071429 35.60555556 63.56023272\n",
      " 27.13917843 57.46666667 37.20339914]\n",
      "\n",
      "Dataset length (number of samples): 16\n",
      "\n",
      "Sample from __getitem__:\n",
      "X_sample: [ 10.39396218  13.81405518  17.89210288  35.35248382 199.13060241\n",
      " 123.28789077  11.           0.           0.           0.        ]\n",
      "y_sample: [ 7.         90.99643387 57.15756345 41.59004329 34.73244475 78.7308509\n",
      " 49.43392304 89.9460373  42.61111111 40.66071429 35.60555556 63.56023272\n",
      " 27.13917843 57.46666667 37.20339914]\n"
     ]
    }
   ],
   "source": [
    "# Check date parsing\n",
    "months, days, years = dataset.months, dataset.days, dataset.years\n",
    "print(\"\\nParsed Dates:\")\n",
    "print(\"Months:\", months)\n",
    "print(\"Days:\", days)\n",
    "print(\"Years:\", years)\n",
    "\n",
    "\n",
    "X_data, y_data = dataset.X, dataset.y\n",
    "print(\"\\nOrganized Data Shapes:\")\n",
    "print(\"X_data shape:\", X_data.shape)  # Expected: (num_samples, num_features)\n",
    "print(\"y_data shape:\", y_data.shape)  # Expected: (num_samples, num_labels)\n",
    "\n",
    "# Display sample data from X and y\n",
    "print(\"\\nSample X_data:\", X_data[0][:10])  # Display first 10 features of first sample\n",
    "print(\"Sample y_data:\", y_data[0])         # Display first sample of y_data\n",
    "\n",
    "print(\"\\nDataset length (number of samples):\", len(dataset))\n",
    "\n",
    "X_sample, y_sample = dataset[0]\n",
    "print(\"\\nSample from __getitem__:\")\n",
    "print(\"X_sample:\", X_sample[:10])  # Display first 10 features of X_sample\n",
    "print(\"y_sample:\", y_sample)"
   ]
  }
 ],
 "metadata": {
  "kernelspec": {
   "display_name": "lstm",
   "language": "python",
   "name": "python3"
  },
  "language_info": {
   "codemirror_mode": {
    "name": "ipython",
    "version": 3
   },
   "file_extension": ".py",
   "mimetype": "text/x-python",
   "name": "python",
   "nbconvert_exporter": "python",
   "pygments_lexer": "ipython3",
   "version": "3.10.15"
  }
 },
 "nbformat": 4,
 "nbformat_minor": 2
}
