{
 "cells": [
  {
   "cell_type": "markdown",
   "metadata": {},
   "source": [
    "# Dataset"
   ]
  },
  {
   "cell_type": "code",
   "execution_count": 1,
   "metadata": {},
   "outputs": [],
   "source": [
    "import sys\n",
    "\n",
    "# add the parent directory to the path so we can import the module\n",
    "sys.path.append(\"/data2/eranario/scratch/strawberry-yield-forecasting\")"
   ]
  },
  {
   "cell_type": "code",
   "execution_count": 2,
   "metadata": {},
   "outputs": [],
   "source": [
    "import torch\n",
    "from src.dataset import StrawberryDataset"
   ]
  },
  {
   "cell_type": "code",
   "execution_count": 3,
   "metadata": {},
   "outputs": [],
   "source": [
    "# device is cuda else cpu\n",
    "device = \"cuda\" if torch.cuda.is_available() else \"cpu\""
   ]
  },
  {
   "cell_type": "code",
   "execution_count": 4,
   "metadata": {},
   "outputs": [],
   "source": [
    "path_to_counts = \"/data2/eranario/data/Strawberry-Yield-Forecasting/\"\n",
    "path_to_weights = \"/data2/eranario/data/Strawberry-Yield-Forecasting/weights/weights.csv\"\n",
    "n_seq = 5\n",
    "seq_l = 3\n",
    "n_folds = 2\n",
    "k_fold = 2\n",
    "dataset = StrawberryDataset(path_to_counts, path_to_weights, k_fold=k_fold,\n",
    "                            n_seq=n_seq, seq_l=seq_l, n_folds=n_folds)"
   ]
  },
  {
   "cell_type": "code",
   "execution_count": 5,
   "metadata": {},
   "outputs": [
    {
     "name": "stdout",
     "output_type": "stream",
     "text": [
      "\n",
      "Parsed Dates:\n",
      "Months: ['06', '06', '07', '07', '07', '07', '07', '07', '08', '08', '08', '08', '08', '09', '09', '09']\n",
      "Days: ['17', '28', '05', '08', '15', '19', '26', '29', '02', '05', '09', '12', '29', '01', '20', '22']\n",
      "Years: ['2022', '2022', '2022', '2022', '2022', '2022', '2022', '2022', '2022', '2022', '2022', '2022', '2022', '2022', '2022', '2022']\n",
      "\n",
      "Organized Data Shapes:\n",
      "X_data shape: (99, 105)\n",
      "y_data shape: (99, 15)\n",
      "\n",
      "Sample X_data: [ 10.39396218  13.81405518  17.89210288  35.35248382 199.13060241\n",
      " 123.28789077  11.           0.           0.           0.        ]\n",
      "Sample y_data: [ 7.         90.99643387 57.15756345 41.59004329 34.73244475 78.7308509\n",
      " 49.43392304 89.9460373  42.61111111 40.66071429 35.60555556 63.56023272\n",
      " 27.13917843 57.46666667 37.20339914]\n",
      "\n",
      "Dataset length (number of samples): 17\n",
      "\n",
      "Sample from __getitem__:\n",
      "X_sample: tensor([[0.0000, 0.2596, 0.0886, 0.0000, 0.0000, 0.5636, 1.0000],\n",
      "        [0.0000, 0.0000, 0.0000, 0.0000, 0.0000, 0.0000, 0.4762],\n",
      "        [0.0000, 0.0000, 0.0000, 0.3789, 0.0000, 0.3454, 0.1429]])\n",
      "y_sample: tensor([0.3332])\n"
     ]
    }
   ],
   "source": [
    "# Check date parsing\n",
    "months, days, years = dataset.months, dataset.days, dataset.years\n",
    "print(\"\\nParsed Dates:\")\n",
    "print(\"Months:\", months)\n",
    "print(\"Days:\", days)\n",
    "print(\"Years:\", years)\n",
    "\n",
    "\n",
    "X_data, y_data = dataset.X, dataset.y\n",
    "print(\"\\nOrganized Data Shapes:\")\n",
    "print(\"X_data shape:\", X_data.shape)  # Expected: (num_samples, num_features)\n",
    "print(\"y_data shape:\", y_data.shape)  # Expected: (num_samples, num_labels)\n",
    "\n",
    "# Display sample data from X and y\n",
    "print(\"\\nSample X_data:\", X_data[0][:10])  # Display first 10 features of first sample\n",
    "print(\"Sample y_data:\", y_data[0])         # Display first sample of y_data\n",
    "\n",
    "print(\"\\nDataset length (number of samples):\", len(dataset))\n",
    "\n",
    "X_sample, y_sample = dataset[0]\n",
    "print(\"\\nSample from __getitem__:\")\n",
    "print(\"X_sample:\", X_sample[:10])  # Display first 10 features of X_sample\n",
    "print(\"y_sample:\", y_sample)"
   ]
  },
  {
   "cell_type": "markdown",
   "metadata": {},
   "source": [
    "# Dataloader"
   ]
  },
  {
   "cell_type": "code",
   "execution_count": 6,
   "metadata": {},
   "outputs": [],
   "source": [
    "import torch\n",
    "from torch.utils.data import DataLoader"
   ]
  },
  {
   "cell_type": "code",
   "execution_count": 7,
   "metadata": {},
   "outputs": [],
   "source": [
    "train_size = int(0.75 * len(dataset))\n",
    "val_size = len(dataset) - train_size\n",
    "train_dataset, val_dataset = torch.utils.data.random_split(dataset, [train_size, val_size])\n",
    "\n",
    "train_loader = DataLoader(train_dataset, batch_size=1, shuffle=True)\n",
    "val_loader = DataLoader(val_dataset, batch_size=1, shuffle=False)"
   ]
  },
  {
   "cell_type": "code",
   "execution_count": 8,
   "metadata": {},
   "outputs": [
    {
     "name": "stdout",
     "output_type": "stream",
     "text": [
      "\n",
      "Batch 0\n",
      "X_batch shape: torch.Size([1, 3, 7])\n",
      "y_batch shape: torch.Size([1, 1])\n",
      "X_batch: tensor([[[0.0000, 0.0765, 0.2197, 0.0000, 0.0000, 0.8789, 1.0000],\n",
      "         [0.0000, 0.0000, 0.2304, 0.1385, 0.0000, 0.6705, 0.7857],\n",
      "         [0.0000, 0.0000, 0.0292, 0.3556, 0.0000, 0.6864, 0.2857]]])\n",
      "y_batch: tensor([[0.6793]])\n"
     ]
    }
   ],
   "source": [
    "# try to get a batch of data\n",
    "for i, (X_batch, y_batch) in enumerate(train_loader):\n",
    "    print(\"\\nBatch\", i)\n",
    "    print(\"X_batch shape:\", X_batch.shape)\n",
    "    print(\"y_batch shape:\", y_batch.shape)\n",
    "    print(\"X_batch:\", X_batch)\n",
    "    print(\"y_batch:\", y_batch)\n",
    "    break"
   ]
  },
  {
   "cell_type": "markdown",
   "metadata": {},
   "source": [
    "# Training"
   ]
  },
  {
   "cell_type": "code",
   "execution_count": 9,
   "metadata": {},
   "outputs": [],
   "source": [
    "from torch.optim import Adam\n",
    "from torch.nn import MSELoss\n",
    "from src.model import LSTMModel"
   ]
  },
  {
   "cell_type": "code",
   "execution_count": 10,
   "metadata": {},
   "outputs": [],
   "source": [
    "def train_lstm_model(model, train_loader, val_loader, epochs, lr):\n",
    "    device = torch.device(\"cuda\" if torch.cuda.is_available() else \"cpu\")\n",
    "    model = model.to(device)\n",
    "    criterion = MSELoss()\n",
    "    optimizer = Adam(model.parameters(), lr=lr)\n",
    "    \n",
    "    best_val_loss = float(\"inf\")\n",
    "    best_model = None\n",
    "    \n",
    "    for epoch in range(epochs):\n",
    "        # Training phase\n",
    "        model.train()\n",
    "        train_loss = 0.0\n",
    "        for X_batch, y_batch in train_loader:\n",
    "            X_batch, y_batch = X_batch.to(device), y_batch.to(device)\n",
    "            \n",
    "            optimizer.zero_grad()\n",
    "            outputs = model(X_batch)\n",
    "            loss = criterion(outputs, y_batch)\n",
    "            loss.backward()\n",
    "            optimizer.step()\n",
    "            \n",
    "            train_loss += loss.item()\n",
    "        \n",
    "        train_loss /= len(train_loader)\n",
    "        \n",
    "        # Validation phase\n",
    "        model.eval()\n",
    "        val_loss = 0.0\n",
    "        with torch.no_grad():\n",
    "            for X_batch, y_batch in val_loader:\n",
    "                X_batch, y_batch = X_batch.to(device), y_batch.to(device)\n",
    "                outputs = model(X_batch)\n",
    "                loss = criterion(outputs, y_batch)\n",
    "                val_loss += loss.item()\n",
    "        \n",
    "        val_loss /= len(val_loader)\n",
    "        \n",
    "        print(f\"Epoch {epoch+1}/{epochs}, Train Loss: {train_loss:.4f}, Val Loss: {val_loss:.4f}\")\n",
    "        \n",
    "        # Save best model\n",
    "        if val_loss < best_val_loss:\n",
    "            best_val_loss = val_loss\n",
    "            best_model = model.state_dict()\n",
    "    \n",
    "    # Load best model before returning\n",
    "    model.load_state_dict(best_model)\n",
    "    return model"
   ]
  },
  {
   "cell_type": "code",
   "execution_count": 11,
   "metadata": {},
   "outputs": [],
   "source": [
    "input_dim = dataset.samples_dim[2]\n",
    "epochs = 100\n",
    "learning_rate = 0.001\n",
    "\n",
    "model = LSTMModel(input_dim=input_dim)"
   ]
  },
  {
   "cell_type": "code",
   "execution_count": 12,
   "metadata": {},
   "outputs": [
    {
     "name": "stdout",
     "output_type": "stream",
     "text": [
      "Epoch 1/100, Train Loss: 0.1321, Val Loss: 0.0835\n",
      "Epoch 2/100, Train Loss: 0.0815, Val Loss: 0.0462\n",
      "Epoch 3/100, Train Loss: 0.0359, Val Loss: 0.0310\n",
      "Epoch 4/100, Train Loss: 0.0269, Val Loss: 0.0332\n",
      "Epoch 5/100, Train Loss: 0.0274, Val Loss: 0.0348\n",
      "Epoch 6/100, Train Loss: 0.0263, Val Loss: 0.0310\n",
      "Epoch 7/100, Train Loss: 0.0277, Val Loss: 0.0298\n",
      "Epoch 8/100, Train Loss: 0.0259, Val Loss: 0.0308\n",
      "Epoch 9/100, Train Loss: 0.0250, Val Loss: 0.0305\n",
      "Epoch 10/100, Train Loss: 0.0250, Val Loss: 0.0295\n",
      "Epoch 11/100, Train Loss: 0.0243, Val Loss: 0.0297\n",
      "Epoch 12/100, Train Loss: 0.0240, Val Loss: 0.0269\n",
      "Epoch 13/100, Train Loss: 0.0229, Val Loss: 0.0277\n",
      "Epoch 14/100, Train Loss: 0.0221, Val Loss: 0.0249\n",
      "Epoch 15/100, Train Loss: 0.0212, Val Loss: 0.0223\n",
      "Epoch 16/100, Train Loss: 0.0211, Val Loss: 0.0203\n",
      "Epoch 17/100, Train Loss: 0.0165, Val Loss: 0.0177\n",
      "Epoch 18/100, Train Loss: 0.0167, Val Loss: 0.0149\n",
      "Epoch 19/100, Train Loss: 0.0136, Val Loss: 0.0120\n",
      "Epoch 20/100, Train Loss: 0.0125, Val Loss: 0.0099\n",
      "Epoch 21/100, Train Loss: 0.0110, Val Loss: 0.0091\n",
      "Epoch 22/100, Train Loss: 0.0123, Val Loss: 0.0102\n",
      "Epoch 23/100, Train Loss: 0.0129, Val Loss: 0.0094\n",
      "Epoch 24/100, Train Loss: 0.0108, Val Loss: 0.0090\n",
      "Epoch 25/100, Train Loss: 0.0086, Val Loss: 0.0091\n",
      "Epoch 26/100, Train Loss: 0.0109, Val Loss: 0.0081\n",
      "Epoch 27/100, Train Loss: 0.0130, Val Loss: 0.0082\n",
      "Epoch 28/100, Train Loss: 0.0094, Val Loss: 0.0086\n",
      "Epoch 29/100, Train Loss: 0.0091, Val Loss: 0.0084\n",
      "Epoch 30/100, Train Loss: 0.0081, Val Loss: 0.0082\n",
      "Epoch 31/100, Train Loss: 0.0094, Val Loss: 0.0088\n",
      "Epoch 32/100, Train Loss: 0.0093, Val Loss: 0.0078\n",
      "Epoch 33/100, Train Loss: 0.0072, Val Loss: 0.0080\n",
      "Epoch 34/100, Train Loss: 0.0067, Val Loss: 0.0076\n",
      "Epoch 35/100, Train Loss: 0.0087, Val Loss: 0.0076\n",
      "Epoch 36/100, Train Loss: 0.0074, Val Loss: 0.0073\n",
      "Epoch 37/100, Train Loss: 0.0078, Val Loss: 0.0080\n",
      "Epoch 38/100, Train Loss: 0.0051, Val Loss: 0.0088\n",
      "Epoch 39/100, Train Loss: 0.0075, Val Loss: 0.0088\n",
      "Epoch 40/100, Train Loss: 0.0074, Val Loss: 0.0075\n",
      "Epoch 41/100, Train Loss: 0.0071, Val Loss: 0.0076\n",
      "Epoch 42/100, Train Loss: 0.0057, Val Loss: 0.0074\n",
      "Epoch 43/100, Train Loss: 0.0063, Val Loss: 0.0076\n",
      "Epoch 44/100, Train Loss: 0.0079, Val Loss: 0.0074\n",
      "Epoch 45/100, Train Loss: 0.0043, Val Loss: 0.0081\n",
      "Epoch 46/100, Train Loss: 0.0077, Val Loss: 0.0070\n",
      "Epoch 47/100, Train Loss: 0.0064, Val Loss: 0.0070\n",
      "Epoch 48/100, Train Loss: 0.0047, Val Loss: 0.0067\n",
      "Epoch 49/100, Train Loss: 0.0053, Val Loss: 0.0064\n",
      "Epoch 50/100, Train Loss: 0.0047, Val Loss: 0.0062\n",
      "Epoch 51/100, Train Loss: 0.0050, Val Loss: 0.0063\n",
      "Epoch 52/100, Train Loss: 0.0042, Val Loss: 0.0067\n",
      "Epoch 53/100, Train Loss: 0.0047, Val Loss: 0.0060\n",
      "Epoch 54/100, Train Loss: 0.0055, Val Loss: 0.0061\n",
      "Epoch 55/100, Train Loss: 0.0046, Val Loss: 0.0063\n",
      "Epoch 56/100, Train Loss: 0.0045, Val Loss: 0.0055\n",
      "Epoch 57/100, Train Loss: 0.0039, Val Loss: 0.0054\n",
      "Epoch 58/100, Train Loss: 0.0043, Val Loss: 0.0061\n",
      "Epoch 59/100, Train Loss: 0.0053, Val Loss: 0.0053\n",
      "Epoch 60/100, Train Loss: 0.0047, Val Loss: 0.0058\n",
      "Epoch 61/100, Train Loss: 0.0037, Val Loss: 0.0052\n",
      "Epoch 62/100, Train Loss: 0.0038, Val Loss: 0.0051\n",
      "Epoch 63/100, Train Loss: 0.0033, Val Loss: 0.0049\n",
      "Epoch 64/100, Train Loss: 0.0036, Val Loss: 0.0048\n",
      "Epoch 65/100, Train Loss: 0.0039, Val Loss: 0.0047\n",
      "Epoch 66/100, Train Loss: 0.0034, Val Loss: 0.0050\n",
      "Epoch 67/100, Train Loss: 0.0036, Val Loss: 0.0053\n",
      "Epoch 68/100, Train Loss: 0.0031, Val Loss: 0.0053\n",
      "Epoch 69/100, Train Loss: 0.0033, Val Loss: 0.0044\n",
      "Epoch 70/100, Train Loss: 0.0033, Val Loss: 0.0053\n",
      "Epoch 71/100, Train Loss: 0.0034, Val Loss: 0.0043\n",
      "Epoch 72/100, Train Loss: 0.0037, Val Loss: 0.0043\n",
      "Epoch 73/100, Train Loss: 0.0043, Val Loss: 0.0052\n",
      "Epoch 74/100, Train Loss: 0.0031, Val Loss: 0.0048\n",
      "Epoch 75/100, Train Loss: 0.0033, Val Loss: 0.0045\n",
      "Epoch 76/100, Train Loss: 0.0027, Val Loss: 0.0048\n",
      "Epoch 77/100, Train Loss: 0.0031, Val Loss: 0.0044\n",
      "Epoch 78/100, Train Loss: 0.0025, Val Loss: 0.0051\n",
      "Epoch 79/100, Train Loss: 0.0025, Val Loss: 0.0042\n",
      "Epoch 80/100, Train Loss: 0.0025, Val Loss: 0.0042\n",
      "Epoch 81/100, Train Loss: 0.0034, Val Loss: 0.0038\n",
      "Epoch 82/100, Train Loss: 0.0052, Val Loss: 0.0057\n",
      "Epoch 83/100, Train Loss: 0.0042, Val Loss: 0.0049\n",
      "Epoch 84/100, Train Loss: 0.0036, Val Loss: 0.0042\n",
      "Epoch 85/100, Train Loss: 0.0027, Val Loss: 0.0045\n",
      "Epoch 86/100, Train Loss: 0.0035, Val Loss: 0.0044\n",
      "Epoch 87/100, Train Loss: 0.0030, Val Loss: 0.0043\n",
      "Epoch 88/100, Train Loss: 0.0024, Val Loss: 0.0042\n",
      "Epoch 89/100, Train Loss: 0.0025, Val Loss: 0.0038\n",
      "Epoch 90/100, Train Loss: 0.0020, Val Loss: 0.0043\n",
      "Epoch 91/100, Train Loss: 0.0021, Val Loss: 0.0041\n",
      "Epoch 92/100, Train Loss: 0.0023, Val Loss: 0.0044\n",
      "Epoch 93/100, Train Loss: 0.0019, Val Loss: 0.0038\n",
      "Epoch 94/100, Train Loss: 0.0023, Val Loss: 0.0041\n",
      "Epoch 95/100, Train Loss: 0.0018, Val Loss: 0.0039\n",
      "Epoch 96/100, Train Loss: 0.0020, Val Loss: 0.0038\n",
      "Epoch 97/100, Train Loss: 0.0015, Val Loss: 0.0044\n",
      "Epoch 98/100, Train Loss: 0.0029, Val Loss: 0.0039\n",
      "Epoch 99/100, Train Loss: 0.0025, Val Loss: 0.0041\n",
      "Epoch 100/100, Train Loss: 0.0028, Val Loss: 0.0056\n"
     ]
    }
   ],
   "source": [
    "trained_model = train_lstm_model(model, train_loader, val_loader, epochs, learning_rate)"
   ]
  },
  {
   "cell_type": "markdown",
   "metadata": {},
   "source": [
    "# Test"
   ]
  },
  {
   "cell_type": "code",
   "execution_count": 13,
   "metadata": {},
   "outputs": [],
   "source": [
    "import numpy as np"
   ]
  },
  {
   "cell_type": "code",
   "execution_count": 14,
   "metadata": {},
   "outputs": [],
   "source": [
    "def evaluate_test_set(model, test_loader, device):\n",
    "    model.eval()  # Set model to evaluation mode\n",
    "    predictions = []\n",
    "    true_values = []\n",
    "    \n",
    "    with torch.no_grad():  # Disable gradient computation for inference\n",
    "        for X_batch, y_batch in test_loader:\n",
    "            X_batch, y_batch = X_batch.to(device), y_batch.to(device)\n",
    "            outputs = model(X_batch)\n",
    "            predictions.append(outputs.cpu().numpy())  # Store predictions\n",
    "            true_values.append(y_batch.cpu().numpy())  # Store true labels\n",
    "    \n",
    "    # Concatenate the results into single arrays\n",
    "    predictions = np.concatenate(predictions)\n",
    "    true_values = np.concatenate(true_values)\n",
    "    \n",
    "    return predictions, true_values\n"
   ]
  },
  {
   "cell_type": "code",
   "execution_count": null,
   "metadata": {},
   "outputs": [
    {
     "name": "stdout",
     "output_type": "stream",
     "text": [
      "\n",
      "Sample from test_loader:\n",
      "X_batch shape: torch.Size([1, 3, 7])\n",
      "y_batch shape: torch.Size([1, 1])\n"
     ]
    }
   ],
   "source": [
    "dataset.mode = \"test\"\n",
    "\n",
    "test_loader = DataLoader(dataset, batch_size=1, shuffle=False)\n",
    "\n",
    "# check first batch\n",
    "X_batch, y_batch = next(iter(test_loader))\n",
    "print(\"\\nSample from test_loader:\")\n",
    "print(\"X_batch shape:\", X_batch.shape)\n",
    "print(\"y_batch shape:\", y_batch.shape)"
   ]
  },
  {
   "cell_type": "code",
   "execution_count": 18,
   "metadata": {},
   "outputs": [],
   "source": [
    "predictions, true_values = evaluate_test_set(trained_model, test_loader, device)"
   ]
  },
  {
   "cell_type": "code",
   "execution_count": 19,
   "metadata": {},
   "outputs": [
    {
     "name": "stdout",
     "output_type": "stream",
     "text": [
      "Test RMSE: 0.1986\n",
      "Test R²: -0.1538\n"
     ]
    }
   ],
   "source": [
    "from sklearn.metrics import mean_squared_error, r2_score\n",
    "rmse = np.sqrt(mean_squared_error(true_values, predictions))\n",
    "r2 = r2_score(true_values, predictions)\n",
    "\n",
    "print(f\"Test RMSE: {rmse:.4f}\")\n",
    "print(f\"Test R²: {r2:.4f}\")"
   ]
  }
 ],
 "metadata": {
  "kernelspec": {
   "display_name": "lstm",
   "language": "python",
   "name": "python3"
  },
  "language_info": {
   "codemirror_mode": {
    "name": "ipython",
    "version": 3
   },
   "file_extension": ".py",
   "mimetype": "text/x-python",
   "name": "python",
   "nbconvert_exporter": "python",
   "pygments_lexer": "ipython3",
   "version": "3.10.15"
  }
 },
 "nbformat": 4,
 "nbformat_minor": 2
}
