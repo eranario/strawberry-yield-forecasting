{
 "cells": [
  {
   "cell_type": "markdown",
   "metadata": {},
   "source": [
    "# Dataset"
   ]
  },
  {
   "cell_type": "code",
   "execution_count": 1,
   "metadata": {},
   "outputs": [],
   "source": [
    "import sys\n",
    "\n",
    "# add the parent directory to the path so we can import the module\n",
    "sys.path.append(\"/data2/eranario/scratch/strawberry-yield-forecasting\")"
   ]
  },
  {
   "cell_type": "code",
   "execution_count": 2,
   "metadata": {},
   "outputs": [],
   "source": [
    "import torch\n",
    "from src.dataset import StrawberryDataset"
   ]
  },
  {
   "cell_type": "code",
   "execution_count": 3,
   "metadata": {},
   "outputs": [
    {
     "data": {
      "text/plain": [
       "<torch._C.Generator at 0x7ffa201a3510>"
      ]
     },
     "execution_count": 3,
     "metadata": {},
     "output_type": "execute_result"
    }
   ],
   "source": [
    "# create random seed\n",
    "torch.manual_seed(126)"
   ]
  },
  {
   "cell_type": "code",
   "execution_count": 4,
   "metadata": {},
   "outputs": [],
   "source": [
    "# device is cuda else cpu\n",
    "device = \"cuda\" if torch.cuda.is_available() else \"cpu\""
   ]
  },
  {
   "cell_type": "code",
   "execution_count": 5,
   "metadata": {},
   "outputs": [],
   "source": [
    "path_to_counts = \"/data2/eranario/data/Strawberry-Yield-Forecasting/\"\n",
    "path_to_weights = \"/data2/eranario/data/Strawberry-Yield-Forecasting/weights/weights.csv\"\n",
    "n_seq = 5\n",
    "seq_l = 3\n",
    "n_folds = 2\n",
    "k_fold = 2\n",
    "use_weights = True\n",
    "dataset = StrawberryDataset(path_to_counts, path_to_weights, k_fold=k_fold,\n",
    "                            n_seq=n_seq, seq_l=seq_l, n_folds=n_folds, use_weights=use_weights)"
   ]
  },
  {
   "cell_type": "code",
   "execution_count": 6,
   "metadata": {},
   "outputs": [
    {
     "name": "stdout",
     "output_type": "stream",
     "text": [
      "\n",
      "Parsed Dates:\n",
      "Months: ['06', '06', '07', '07', '07', '07', '07', '07', '08', '08', '08', '08', '08', '09', '09', '09']\n",
      "Days: ['17', '28', '05', '08', '15', '19', '26', '29', '02', '05', '09', '12', '29', '01', '20', '22']\n",
      "Years: ['2022', '2022', '2022', '2022', '2022', '2022', '2022', '2022', '2022', '2022', '2022', '2022', '2022', '2022', '2022', '2022']\n",
      "\n",
      "Organized Data Shapes:\n",
      "X_data shape: (495, 3, 7)\n",
      "y_data shape: (495, 1)\n",
      "\n",
      "Sample X_data: [[0.         0.25957873 0.08863333 0.         0.         0.56364411\n",
      "  1.        ]\n",
      " [0.         0.         0.         0.         0.         0.\n",
      "  0.47619048]\n",
      " [0.         0.         0.         0.3789208  0.         0.34544651\n",
      "  0.14285714]]\n",
      "Sample y_data: [0.33320494]\n",
      "\n",
      "Dataset length (number of samples): 495\n",
      "\n",
      "Sample from __getitem__:\n",
      "X_sample: tensor([[0.0000, 0.2596, 0.0886, 0.0000, 0.0000, 0.5636, 1.0000],\n",
      "        [0.0000, 0.0000, 0.0000, 0.0000, 0.0000, 0.0000, 0.4762],\n",
      "        [0.0000, 0.0000, 0.0000, 0.3789, 0.0000, 0.3454, 0.1429]])\n",
      "y_sample: tensor([0.3332])\n"
     ]
    }
   ],
   "source": [
    "# Check date parsing\n",
    "months, days, years = dataset.months, dataset.days, dataset.years\n",
    "print(\"\\nParsed Dates:\")\n",
    "print(\"Months:\", months)\n",
    "print(\"Days:\", days)\n",
    "print(\"Years:\", years)\n",
    "\n",
    "\n",
    "X_data, y_data = dataset.fnX, dataset.fny\n",
    "print(\"\\nOrganized Data Shapes:\")\n",
    "print(\"X_data shape:\", X_data.shape)\n",
    "print(\"y_data shape:\", y_data.shape)\n",
    "\n",
    "# Display sample data from X and y\n",
    "print(\"\\nSample X_data:\", X_data[0][:10])  # Display first 10 features of first sample\n",
    "print(\"Sample y_data:\", y_data[0])         # Display first sample of y_data\n",
    "\n",
    "print(\"\\nDataset length (number of samples):\", len(dataset))\n",
    "\n",
    "X_sample, y_sample = dataset[0]\n",
    "print(\"\\nSample from __getitem__:\")\n",
    "print(\"X_sample:\", X_sample[:10])  # Display first 10 features of X_sample\n",
    "print(\"y_sample:\", y_sample)"
   ]
  },
  {
   "cell_type": "markdown",
   "metadata": {},
   "source": [
    "# Dataloader"
   ]
  },
  {
   "cell_type": "code",
   "execution_count": 7,
   "metadata": {},
   "outputs": [],
   "source": [
    "import torch\n",
    "from torch.utils.data import DataLoader"
   ]
  },
  {
   "cell_type": "code",
   "execution_count": 8,
   "metadata": {},
   "outputs": [],
   "source": [
    "train_size = int(0.75 * len(dataset))\n",
    "val_size = len(dataset) - train_size\n",
    "train_dataset, val_dataset = torch.utils.data.random_split(dataset, [train_size, val_size])\n",
    "\n",
    "train_loader = DataLoader(train_dataset, batch_size=4, shuffle=False)\n",
    "val_loader = DataLoader(val_dataset, batch_size=4, shuffle=False)"
   ]
  },
  {
   "cell_type": "code",
   "execution_count": 9,
   "metadata": {},
   "outputs": [
    {
     "data": {
      "text/plain": [
       "(93, 31)"
      ]
     },
     "execution_count": 9,
     "metadata": {},
     "output_type": "execute_result"
    }
   ],
   "source": [
    "len(train_loader), len(val_loader)"
   ]
  },
  {
   "cell_type": "code",
   "execution_count": 10,
   "metadata": {},
   "outputs": [
    {
     "name": "stdout",
     "output_type": "stream",
     "text": [
      "\n",
      "Batch 0\n",
      "X_batch shape: torch.Size([4, 3, 7])\n",
      "y_batch shape: torch.Size([4, 1])\n",
      "X_batch: tensor([[[0.0000, 0.0709, 0.4952, 0.0000, 0.0000, 0.9426, 1.0000],\n",
      "         [0.0000, 0.0000, 0.5245, 0.1726, 0.0000, 0.6923, 0.7857],\n",
      "         [0.0000, 0.0000, 0.0616, 0.5772, 0.0000, 0.8210, 0.2857]],\n",
      "\n",
      "        [[0.0000, 0.0648, 0.7097, 0.0000, 0.0000, 0.8716, 1.0000],\n",
      "         [0.0000, 0.0000, 0.5942, 0.1149, 0.0000, 0.7507, 0.7857],\n",
      "         [0.0000, 0.0000, 0.0703, 0.6614, 0.0000, 0.8628, 0.2857]],\n",
      "\n",
      "        [[0.0000, 0.4654, 0.0981, 0.0000, 0.0000, 0.8405, 1.0000],\n",
      "         [0.0000, 0.0000, 0.2981, 0.1757, 0.0000, 0.7615, 0.4762],\n",
      "         [0.0000, 0.0000, 0.0000, 0.2106, 0.0000, 0.2322, 0.1429]],\n",
      "\n",
      "        [[0.0000, 0.3142, 0.0475, 0.0000, 0.0000, 0.3085, 1.0000],\n",
      "         [0.0000, 0.0000, 0.1295, 0.0469, 0.0000, 0.1957, 0.4762],\n",
      "         [0.0000, 0.0000, 0.0000, 0.0772, 0.0000, 0.1404, 0.1429]]])\n",
      "y_batch: tensor([[0.8986],\n",
      "        [0.7995],\n",
      "        [0.3200],\n",
      "        [0.1485]])\n"
     ]
    }
   ],
   "source": [
    "# try to get a batch of data\n",
    "for i, (X_batch, y_batch) in enumerate(train_loader):\n",
    "    print(\"\\nBatch\", i)\n",
    "    print(\"X_batch shape:\", X_batch.shape)\n",
    "    print(\"y_batch shape:\", y_batch.shape)\n",
    "    print(\"X_batch:\", X_batch) # (batch_size, n_seq, num_classes)\n",
    "    print(\"y_batch:\", y_batch) # (batch_size, 1)\n",
    "    break"
   ]
  },
  {
   "cell_type": "markdown",
   "metadata": {},
   "source": [
    "# Training"
   ]
  },
  {
   "cell_type": "code",
   "execution_count": 11,
   "metadata": {},
   "outputs": [],
   "source": [
    "import torch\n",
    "import matplotlib.pyplot as plt\n",
    "\n",
    "from torch.nn import MSELoss\n",
    "from torch.optim import Adam\n",
    "from src.model import Transformer"
   ]
  },
  {
   "cell_type": "code",
   "execution_count": 12,
   "metadata": {},
   "outputs": [],
   "source": [
    "def train_transformer_decoder(model, train_loader, val_loader, epochs, lr):\n",
    "    device = torch.device(\"cuda\" if torch.cuda.is_available() else \"cpu\")\n",
    "    model = model.to(device)\n",
    "    criterion = MSELoss()\n",
    "    optimizer = Adam(model.parameters(), lr=lr)\n",
    "\n",
    "    best_val_loss = float(\"inf\")\n",
    "    best_model = None\n",
    "\n",
    "    train_losses = []  # To store train loss for each epoch\n",
    "    val_losses = []    # To store validation loss for each epoch\n",
    "\n",
    "    for epoch in range(epochs):\n",
    "        # Training phase\n",
    "        model.train()\n",
    "        train_loss = 0.0\n",
    "        for X_batch, y_batch in train_loader:\n",
    "            X_batch, y_batch = X_batch.to(device), y_batch.to(device)\n",
    "\n",
    "            # Generate causal mask\n",
    "            seq_len = X_batch.size(1)\n",
    "            causal_mask = torch.triu(torch.ones(seq_len, seq_len, device=device), diagonal=1).bool()\n",
    "\n",
    "            optimizer.zero_grad()\n",
    "            outputs = model(X_batch, causal_mask=causal_mask)\n",
    "            loss = criterion(outputs, y_batch)\n",
    "            loss.backward()\n",
    "            optimizer.step()\n",
    "\n",
    "            train_loss += loss.item()\n",
    "\n",
    "        train_loss /= len(train_loader)\n",
    "        train_losses.append(train_loss)  # Append to train losses\n",
    "\n",
    "        # Validation phase\n",
    "        model.eval()\n",
    "        val_loss = 0.0\n",
    "        with torch.no_grad():\n",
    "            for X_batch, y_batch in val_loader:\n",
    "                X_batch, y_batch = X_batch.to(device), y_batch.to(device)\n",
    "\n",
    "                # Generate causal mask\n",
    "                seq_len = X_batch.size(1)\n",
    "                causal_mask = torch.triu(torch.ones(seq_len, seq_len, device=device), diagonal=1).bool()\n",
    "\n",
    "                outputs = model(X_batch, causal_mask=causal_mask)\n",
    "                loss = criterion(outputs, y_batch)\n",
    "                val_loss += loss.item()\n",
    "\n",
    "        val_loss /= len(val_loader)\n",
    "        val_losses.append(val_loss)  # Append to validation losses\n",
    "\n",
    "        print(f\"Epoch {epoch+1}/{epochs}, Train Loss: {train_loss:.4f}, Val Loss: {val_loss:.4f}\")\n",
    "\n",
    "        # Save best model\n",
    "        if val_loss < best_val_loss:\n",
    "            best_val_loss = val_loss\n",
    "            best_model = model.state_dict()\n",
    "\n",
    "    # Load best model before returning\n",
    "    model.load_state_dict(best_model)\n",
    "\n",
    "    # Plot training and validation loss curves\n",
    "    plt.figure(figsize=(8, 6))\n",
    "    plt.plot(range(1, epochs + 1), train_losses, label=\"Train Loss\")\n",
    "    plt.plot(range(1, epochs + 1), val_losses, label=\"Validation Loss\", linestyle=\"--\")\n",
    "    plt.xlabel(\"Epochs\")\n",
    "    plt.ylabel(\"Loss\")\n",
    "    plt.title(\"Train vs Validation Loss Curve\")\n",
    "    plt.legend()\n",
    "    plt.tight_layout()\n",
    "    plt.show()\n",
    "\n",
    "    return model"
   ]
  },
  {
   "cell_type": "code",
   "execution_count": 13,
   "metadata": {},
   "outputs": [],
   "source": [
    "input_dim = dataset.samples_dim[2]\n",
    "epochs = 50\n",
    "learning_rate = 0.0001\n",
    "\n",
    "model = Transformer(input_dim=input_dim, hidden_size=12, num_heads=4, num_layers=3)"
   ]
  },
  {
   "cell_type": "code",
   "execution_count": null,
   "metadata": {},
   "outputs": [
    {
     "name": "stdout",
     "output_type": "stream",
     "text": [
      "Epoch 1/50, Train Loss: 0.2267, Val Loss: 0.0273\n",
      "Epoch 2/50, Train Loss: 0.0433, Val Loss: 0.0175\n",
      "Epoch 3/50, Train Loss: 0.0337, Val Loss: 0.0145\n",
      "Epoch 4/50, Train Loss: 0.0240, Val Loss: 0.0148\n",
      "Epoch 5/50, Train Loss: 0.0211, Val Loss: 0.0161\n",
      "Epoch 6/50, Train Loss: 0.0210, Val Loss: 0.0160\n",
      "Epoch 7/50, Train Loss: 0.0190, Val Loss: 0.0159\n",
      "Epoch 8/50, Train Loss: 0.0200, Val Loss: 0.0158\n",
      "Epoch 9/50, Train Loss: 0.0178, Val Loss: 0.0152\n"
     ]
    }
   ],
   "source": [
    "trained_model = train_transformer_decoder(model, train_loader, val_loader, epochs, learning_rate)"
   ]
  },
  {
   "cell_type": "markdown",
   "metadata": {},
   "source": [
    "# Test"
   ]
  },
  {
   "cell_type": "code",
   "execution_count": null,
   "metadata": {},
   "outputs": [],
   "source": [
    "import numpy as np"
   ]
  },
  {
   "cell_type": "code",
   "execution_count": null,
   "metadata": {},
   "outputs": [],
   "source": [
    "def evaluate_test_set(model, test_loader, device):\n",
    "    model.eval()  # Set model to evaluation mode\n",
    "    predictions = []\n",
    "    true_values = []\n",
    "    \n",
    "    with torch.no_grad():  # Disable gradient computation for inference\n",
    "        for X_batch, y_batch in test_loader:\n",
    "            X_batch, y_batch = X_batch.to(device), y_batch.to(device)\n",
    "            outputs = model(X_batch)\n",
    "            predictions.append(outputs.cpu().numpy())  # Store predictions\n",
    "            true_values.append(y_batch.cpu().numpy())  # Store true labels\n",
    "    \n",
    "    # Concatenate the results into single arrays\n",
    "    predictions = np.concatenate(predictions)\n",
    "    true_values = np.concatenate(true_values)\n",
    "    \n",
    "    return predictions, true_values\n"
   ]
  },
  {
   "cell_type": "code",
   "execution_count": null,
   "metadata": {},
   "outputs": [],
   "source": [
    "dataset.mode = 'test'\n",
    "\n",
    "test_loader = DataLoader(dataset, batch_size=1, shuffle=False)\n",
    "\n",
    "# check first batch\n",
    "X_batch, y_batch = next(iter(test_loader))\n",
    "print(\"\\nSample from test_loader:\")\n",
    "print(\"X_batch shape:\", X_batch.shape)\n",
    "print(\"y_batch shape:\", y_batch.shape)\n",
    "print(\"X_batch:\", X_batch)"
   ]
  },
  {
   "cell_type": "code",
   "execution_count": null,
   "metadata": {},
   "outputs": [],
   "source": [
    "predictions, true_values = evaluate_test_set(trained_model, test_loader, device)"
   ]
  },
  {
   "cell_type": "code",
   "execution_count": null,
   "metadata": {},
   "outputs": [],
   "source": [
    "from sklearn.metrics import mean_squared_error\n",
    "from scipy.stats import linregress\n",
    "\n",
    "# change true and predicted from (495, 1) to (5. 99)\n",
    "true_values_reshaped = true_values.reshape(n_seq, -1)\n",
    "predictions_reshaped = predictions.reshape(n_seq, -1)\n",
    "\n",
    "scatter_marker = ['.','d','*','x','+','o','.','x','d','*']\n",
    "scatter_color = ['black','gray','orange','steelblue','darkviolet','blue','pink','blue','pink','coral']\n",
    "\n",
    "time_folds = [[4, 5, 6, 7, 8], [11, 12, 13, 14, 15]]\n",
    "\n",
    "plt.figure()\n",
    "r2_list = []\n",
    "rmse_list = []\n",
    "\n",
    "for time in range(n_seq):\n",
    "    slope, intercept, r_value, p_value, std_err = linregress(true_values_reshaped[time, :], predictions_reshaped[time, :])\n",
    "    r2 = r_value ** 2\n",
    "    rmse = np.sqrt(mean_squared_error(true_values_reshaped[time], predictions_reshaped[time]))\n",
    "    \n",
    "    label = str(time_folds[k_fold-1][time])\n",
    "    plt.scatter(true_values_reshaped[time, :], predictions_reshaped[time, :], marker = scatter_marker[time], color=scatter_color[time], label = f'$t_{{{label}}}$, $R^2$= {r2:.2f}, RMSE= {rmse:.2f}')\n",
    "    r2_list.append(r2)\n",
    "    rmse_list.append(rmse)\n",
    "\n",
    "print(f\"R^2: {np.mean(r2_list):.4f}\", f\"RMSE: {np.mean(rmse_list):.4f}\")\n",
    "plt.xlabel('True yield (Norm.)')\n",
    "plt.ylabel('Predicted yield (Norm.)')\n",
    "plt.legend()\n",
    "plt.tight_layout()\n",
    "plt.show()"
   ]
  },
  {
   "cell_type": "code",
   "execution_count": null,
   "metadata": {},
   "outputs": [],
   "source": [
    "# Access the scaler\n",
    "y_scaler = dataset.y_scaler\n",
    "\n",
    "# Determine the number of expected features\n",
    "expected_features = y_scaler.min_.shape[0]\n",
    "\n",
    "# Pad true values and predictions\n",
    "true_values_padded = np.zeros((true_values.shape[0], expected_features))\n",
    "predictions_padded = np.zeros((predictions.shape[0], expected_features))\n",
    "\n",
    "# Assign the actual values to the appropriate column (e.g., first column)\n",
    "true_values_padded[:, 0] = true_values.flatten()\n",
    "predictions_padded[:, 0] = predictions.flatten()\n",
    "\n",
    "# Unnormalize and extract the relevant column\n",
    "true_values_unnormalized = y_scaler.inverse_transform(true_values_padded)[:, 0]\n",
    "predictions_unnormalized = y_scaler.inverse_transform(predictions_padded)[:, 0]\n",
    "\n",
    "# Reshape for evaluation\n",
    "true_values_reshaped_final = true_values_unnormalized.reshape(n_seq, -1)\n",
    "predictions_reshaped_final = predictions_unnormalized.reshape(n_seq, -1)\n",
    "\n",
    "scatter_marker = ['.','d','*','x','+','o','.','x','d','*']\n",
    "scatter_color = ['black','gray','orange','steelblue','darkviolet','blue','pink','blue','pink','coral']\n",
    "\n",
    "time_folds = [[4, 5, 6, 7, 8], [11, 12, 13, 14, 15]]\n",
    "\n",
    "plt.figure()\n",
    "r2_list = []\n",
    "rmse_list = []\n",
    "\n",
    "for time in range(n_seq):\n",
    "    slope, intercept, r_value, p_value, std_err = linregress(\n",
    "        true_values_reshaped_final[time, :], predictions_reshaped_final[time, :]\n",
    "    )\n",
    "    r2 = r_value ** 2\n",
    "    rmse = np.sqrt(mean_squared_error(\n",
    "        true_values_reshaped_final[time], predictions_reshaped_final[time]\n",
    "    ))\n",
    "\n",
    "    label = str(time_folds[k_fold-1][time])\n",
    "    plt.scatter(\n",
    "        true_values_reshaped_final[time, :], predictions_reshaped_final[time, :],\n",
    "        marker=scatter_marker[time], color=scatter_color[time],\n",
    "        label=f'$t_{{{label}}}$, $R^2$= {r2:.2f}, RMSE= {rmse:.2f}'\n",
    "    )\n",
    "    r2_list.append(r2)\n",
    "    rmse_list.append(rmse)\n",
    "\n",
    "print(f\"R^2: {np.mean(r2_list):.4f}\", f\"RMSE: {np.mean(rmse_list):.4f}\")\n",
    "plt.xlabel('True yield')\n",
    "plt.ylabel('Predicted yield')\n",
    "plt.legend()\n",
    "plt.tight_layout()\n",
    "plt.show()\n"
   ]
  }
 ],
 "metadata": {
  "kernelspec": {
   "display_name": "lstm",
   "language": "python",
   "name": "python3"
  },
  "language_info": {
   "codemirror_mode": {
    "name": "ipython",
    "version": 3
   },
   "file_extension": ".py",
   "mimetype": "text/x-python",
   "name": "python",
   "nbconvert_exporter": "python",
   "pygments_lexer": "ipython3",
   "version": "3.10.15"
  }
 },
 "nbformat": 4,
 "nbformat_minor": 2
}
